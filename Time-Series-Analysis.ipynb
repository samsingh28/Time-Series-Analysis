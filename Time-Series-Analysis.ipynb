{
 "cells": [
  {
   "cell_type": "code",
   "execution_count": 37,
   "metadata": {},
   "outputs": [],
   "source": [
    "#Importing Libraries\n",
    "import pandas as pd\n",
    "import numpy as np\n",
    "import matplotlib.pyplot as plt\n",
    "from sklearn.preprocessing import MinMaxScaler\n",
    "from keras.models import Sequential\n",
    "from keras.layers import Dense, Dropout, LSTM\n",
    "\n",
    "\n",
    "%matplotlib inline"
   ]
  },
  {
   "cell_type": "code",
   "execution_count": 2,
   "metadata": {},
   "outputs": [],
   "source": [
    "#Importing the data frame as df\n",
    "df = pd.read_csv('./EOD-HD.csv')"
   ]
  },
  {
   "cell_type": "code",
   "execution_count": 10,
   "metadata": {},
   "outputs": [
    {
     "data": {
      "text/plain": [
       "(9418, 13)"
      ]
     },
     "execution_count": 10,
     "metadata": {},
     "output_type": "execute_result"
    }
   ],
   "source": [
    "df.shape"
   ]
  },
  {
   "cell_type": "code",
   "execution_count": 3,
   "metadata": {},
   "outputs": [
    {
     "data": {
      "text/html": [
       "<div>\n",
       "<style scoped>\n",
       "    .dataframe tbody tr th:only-of-type {\n",
       "        vertical-align: middle;\n",
       "    }\n",
       "\n",
       "    .dataframe tbody tr th {\n",
       "        vertical-align: top;\n",
       "    }\n",
       "\n",
       "    .dataframe thead th {\n",
       "        text-align: right;\n",
       "    }\n",
       "</style>\n",
       "<table border=\"1\" class=\"dataframe\">\n",
       "  <thead>\n",
       "    <tr style=\"text-align: right;\">\n",
       "      <th></th>\n",
       "      <th>Date</th>\n",
       "      <th>Open</th>\n",
       "      <th>High</th>\n",
       "      <th>Low</th>\n",
       "      <th>Close</th>\n",
       "      <th>Volume</th>\n",
       "      <th>Dividend</th>\n",
       "      <th>Split</th>\n",
       "      <th>Adj_Open</th>\n",
       "      <th>Adj_High</th>\n",
       "      <th>Adj_Low</th>\n",
       "      <th>Adj_Close</th>\n",
       "      <th>Adj_Volume</th>\n",
       "    </tr>\n",
       "  </thead>\n",
       "  <tbody>\n",
       "    <tr>\n",
       "      <th>0</th>\n",
       "      <td>2019-01-28</td>\n",
       "      <td>178.97</td>\n",
       "      <td>179.9900</td>\n",
       "      <td>177.4100</td>\n",
       "      <td>179.83</td>\n",
       "      <td>4047742.0</td>\n",
       "      <td>0.0</td>\n",
       "      <td>1.0</td>\n",
       "      <td>178.97</td>\n",
       "      <td>179.9900</td>\n",
       "      <td>177.4100</td>\n",
       "      <td>179.83</td>\n",
       "      <td>4047742.0</td>\n",
       "    </tr>\n",
       "    <tr>\n",
       "      <th>1</th>\n",
       "      <td>2019-01-25</td>\n",
       "      <td>179.78</td>\n",
       "      <td>180.8700</td>\n",
       "      <td>178.6100</td>\n",
       "      <td>180.40</td>\n",
       "      <td>4502516.0</td>\n",
       "      <td>0.0</td>\n",
       "      <td>1.0</td>\n",
       "      <td>179.78</td>\n",
       "      <td>180.8700</td>\n",
       "      <td>178.6100</td>\n",
       "      <td>180.40</td>\n",
       "      <td>4502516.0</td>\n",
       "    </tr>\n",
       "    <tr>\n",
       "      <th>2</th>\n",
       "      <td>2019-01-24</td>\n",
       "      <td>177.00</td>\n",
       "      <td>177.5300</td>\n",
       "      <td>175.3000</td>\n",
       "      <td>177.29</td>\n",
       "      <td>3860309.0</td>\n",
       "      <td>0.0</td>\n",
       "      <td>1.0</td>\n",
       "      <td>177.00</td>\n",
       "      <td>177.5300</td>\n",
       "      <td>175.3000</td>\n",
       "      <td>177.29</td>\n",
       "      <td>3860309.0</td>\n",
       "    </tr>\n",
       "    <tr>\n",
       "      <th>3</th>\n",
       "      <td>2019-01-23</td>\n",
       "      <td>176.59</td>\n",
       "      <td>178.0600</td>\n",
       "      <td>174.5300</td>\n",
       "      <td>176.89</td>\n",
       "      <td>4910402.0</td>\n",
       "      <td>0.0</td>\n",
       "      <td>1.0</td>\n",
       "      <td>176.59</td>\n",
       "      <td>178.0600</td>\n",
       "      <td>174.5300</td>\n",
       "      <td>176.89</td>\n",
       "      <td>4910402.0</td>\n",
       "    </tr>\n",
       "    <tr>\n",
       "      <th>4</th>\n",
       "      <td>2019-01-22</td>\n",
       "      <td>177.49</td>\n",
       "      <td>178.6048</td>\n",
       "      <td>175.3626</td>\n",
       "      <td>177.11</td>\n",
       "      <td>6272715.0</td>\n",
       "      <td>0.0</td>\n",
       "      <td>1.0</td>\n",
       "      <td>177.49</td>\n",
       "      <td>178.6048</td>\n",
       "      <td>175.3626</td>\n",
       "      <td>177.11</td>\n",
       "      <td>6272715.0</td>\n",
       "    </tr>\n",
       "  </tbody>\n",
       "</table>\n",
       "</div>"
      ],
      "text/plain": [
       "         Date    Open      High       Low   Close     Volume  Dividend  Split  \\\n",
       "0  2019-01-28  178.97  179.9900  177.4100  179.83  4047742.0       0.0    1.0   \n",
       "1  2019-01-25  179.78  180.8700  178.6100  180.40  4502516.0       0.0    1.0   \n",
       "2  2019-01-24  177.00  177.5300  175.3000  177.29  3860309.0       0.0    1.0   \n",
       "3  2019-01-23  176.59  178.0600  174.5300  176.89  4910402.0       0.0    1.0   \n",
       "4  2019-01-22  177.49  178.6048  175.3626  177.11  6272715.0       0.0    1.0   \n",
       "\n",
       "   Adj_Open  Adj_High   Adj_Low  Adj_Close  Adj_Volume  \n",
       "0    178.97  179.9900  177.4100     179.83   4047742.0  \n",
       "1    179.78  180.8700  178.6100     180.40   4502516.0  \n",
       "2    177.00  177.5300  175.3000     177.29   3860309.0  \n",
       "3    176.59  178.0600  174.5300     176.89   4910402.0  \n",
       "4    177.49  178.6048  175.3626     177.11   6272715.0  "
      ]
     },
     "execution_count": 3,
     "metadata": {},
     "output_type": "execute_result"
    }
   ],
   "source": [
    "df.head()"
   ]
  },
  {
   "cell_type": "code",
   "execution_count": 4,
   "metadata": {},
   "outputs": [
    {
     "data": {
      "text/html": [
       "<div>\n",
       "<style scoped>\n",
       "    .dataframe tbody tr th:only-of-type {\n",
       "        vertical-align: middle;\n",
       "    }\n",
       "\n",
       "    .dataframe tbody tr th {\n",
       "        vertical-align: top;\n",
       "    }\n",
       "\n",
       "    .dataframe thead th {\n",
       "        text-align: right;\n",
       "    }\n",
       "</style>\n",
       "<table border=\"1\" class=\"dataframe\">\n",
       "  <thead>\n",
       "    <tr style=\"text-align: right;\">\n",
       "      <th></th>\n",
       "      <th>Date</th>\n",
       "      <th>Open</th>\n",
       "      <th>High</th>\n",
       "      <th>Low</th>\n",
       "      <th>Close</th>\n",
       "      <th>Volume</th>\n",
       "      <th>Dividend</th>\n",
       "      <th>Split</th>\n",
       "      <th>Adj_Open</th>\n",
       "      <th>Adj_High</th>\n",
       "      <th>Adj_Low</th>\n",
       "      <th>Adj_Close</th>\n",
       "      <th>Adj_Volume</th>\n",
       "    </tr>\n",
       "  </thead>\n",
       "  <tbody>\n",
       "    <tr>\n",
       "      <th>9413</th>\n",
       "      <td>1981-09-28</td>\n",
       "      <td>10.25</td>\n",
       "      <td>10.25</td>\n",
       "      <td>10.25</td>\n",
       "      <td>10.25</td>\n",
       "      <td>16957.0</td>\n",
       "      <td>0.0</td>\n",
       "      <td>1.0</td>\n",
       "      <td>0.019965</td>\n",
       "      <td>0.019965</td>\n",
       "      <td>0.019965</td>\n",
       "      <td>0.019965</td>\n",
       "      <td>5.794525e+06</td>\n",
       "    </tr>\n",
       "    <tr>\n",
       "      <th>9414</th>\n",
       "      <td>1981-09-25</td>\n",
       "      <td>10.25</td>\n",
       "      <td>10.25</td>\n",
       "      <td>10.25</td>\n",
       "      <td>10.25</td>\n",
       "      <td>21382.0</td>\n",
       "      <td>0.0</td>\n",
       "      <td>1.0</td>\n",
       "      <td>0.019965</td>\n",
       "      <td>0.019965</td>\n",
       "      <td>0.019965</td>\n",
       "      <td>0.019965</td>\n",
       "      <td>7.306630e+06</td>\n",
       "    </tr>\n",
       "    <tr>\n",
       "      <th>9415</th>\n",
       "      <td>1981-09-24</td>\n",
       "      <td>10.25</td>\n",
       "      <td>10.25</td>\n",
       "      <td>10.25</td>\n",
       "      <td>10.25</td>\n",
       "      <td>14824.0</td>\n",
       "      <td>0.0</td>\n",
       "      <td>1.0</td>\n",
       "      <td>0.019965</td>\n",
       "      <td>0.019965</td>\n",
       "      <td>0.019965</td>\n",
       "      <td>0.019965</td>\n",
       "      <td>5.065639e+06</td>\n",
       "    </tr>\n",
       "    <tr>\n",
       "      <th>9416</th>\n",
       "      <td>1981-09-23</td>\n",
       "      <td>10.25</td>\n",
       "      <td>10.25</td>\n",
       "      <td>10.25</td>\n",
       "      <td>10.25</td>\n",
       "      <td>21597.0</td>\n",
       "      <td>0.0</td>\n",
       "      <td>1.0</td>\n",
       "      <td>0.019965</td>\n",
       "      <td>0.019965</td>\n",
       "      <td>0.019965</td>\n",
       "      <td>0.019965</td>\n",
       "      <td>7.380100e+06</td>\n",
       "    </tr>\n",
       "    <tr>\n",
       "      <th>9417</th>\n",
       "      <td>1981-09-22</td>\n",
       "      <td>10.25</td>\n",
       "      <td>10.25</td>\n",
       "      <td>10.25</td>\n",
       "      <td>10.25</td>\n",
       "      <td>21760.0</td>\n",
       "      <td>0.0</td>\n",
       "      <td>1.0</td>\n",
       "      <td>0.019965</td>\n",
       "      <td>0.019965</td>\n",
       "      <td>0.019965</td>\n",
       "      <td>0.019965</td>\n",
       "      <td>7.435800e+06</td>\n",
       "    </tr>\n",
       "  </tbody>\n",
       "</table>\n",
       "</div>"
      ],
      "text/plain": [
       "            Date   Open   High    Low  Close   Volume  Dividend  Split  \\\n",
       "9413  1981-09-28  10.25  10.25  10.25  10.25  16957.0       0.0    1.0   \n",
       "9414  1981-09-25  10.25  10.25  10.25  10.25  21382.0       0.0    1.0   \n",
       "9415  1981-09-24  10.25  10.25  10.25  10.25  14824.0       0.0    1.0   \n",
       "9416  1981-09-23  10.25  10.25  10.25  10.25  21597.0       0.0    1.0   \n",
       "9417  1981-09-22  10.25  10.25  10.25  10.25  21760.0       0.0    1.0   \n",
       "\n",
       "      Adj_Open  Adj_High   Adj_Low  Adj_Close    Adj_Volume  \n",
       "9413  0.019965  0.019965  0.019965   0.019965  5.794525e+06  \n",
       "9414  0.019965  0.019965  0.019965   0.019965  7.306630e+06  \n",
       "9415  0.019965  0.019965  0.019965   0.019965  5.065639e+06  \n",
       "9416  0.019965  0.019965  0.019965   0.019965  7.380100e+06  \n",
       "9417  0.019965  0.019965  0.019965   0.019965  7.435800e+06  "
      ]
     },
     "execution_count": 4,
     "metadata": {},
     "output_type": "execute_result"
    }
   ],
   "source": [
    "df.tail()"
   ]
  },
  {
   "cell_type": "code",
   "execution_count": 5,
   "metadata": {},
   "outputs": [],
   "source": [
    "#Setting date as our Index column\n",
    "df['Date'] = pd.to_datetime(df.Date,format='%Y-%m-%d')\n",
    "df.index = df['Date']"
   ]
  },
  {
   "cell_type": "code",
   "execution_count": 11,
   "metadata": {},
   "outputs": [
    {
     "data": {
      "text/html": [
       "<div>\n",
       "<style scoped>\n",
       "    .dataframe tbody tr th:only-of-type {\n",
       "        vertical-align: middle;\n",
       "    }\n",
       "\n",
       "    .dataframe tbody tr th {\n",
       "        vertical-align: top;\n",
       "    }\n",
       "\n",
       "    .dataframe thead th {\n",
       "        text-align: right;\n",
       "    }\n",
       "</style>\n",
       "<table border=\"1\" class=\"dataframe\">\n",
       "  <thead>\n",
       "    <tr style=\"text-align: right;\">\n",
       "      <th></th>\n",
       "      <th>Date</th>\n",
       "      <th>Open</th>\n",
       "      <th>High</th>\n",
       "      <th>Low</th>\n",
       "      <th>Close</th>\n",
       "      <th>Volume</th>\n",
       "      <th>Dividend</th>\n",
       "      <th>Split</th>\n",
       "      <th>Adj_Open</th>\n",
       "      <th>Adj_High</th>\n",
       "      <th>Adj_Low</th>\n",
       "      <th>Adj_Close</th>\n",
       "      <th>Adj_Volume</th>\n",
       "    </tr>\n",
       "    <tr>\n",
       "      <th>Date</th>\n",
       "      <th></th>\n",
       "      <th></th>\n",
       "      <th></th>\n",
       "      <th></th>\n",
       "      <th></th>\n",
       "      <th></th>\n",
       "      <th></th>\n",
       "      <th></th>\n",
       "      <th></th>\n",
       "      <th></th>\n",
       "      <th></th>\n",
       "      <th></th>\n",
       "      <th></th>\n",
       "    </tr>\n",
       "  </thead>\n",
       "  <tbody>\n",
       "    <tr>\n",
       "      <th>2019-01-28</th>\n",
       "      <td>2019-01-28</td>\n",
       "      <td>178.97</td>\n",
       "      <td>179.9900</td>\n",
       "      <td>177.4100</td>\n",
       "      <td>179.83</td>\n",
       "      <td>4047742.0</td>\n",
       "      <td>0.0</td>\n",
       "      <td>1.0</td>\n",
       "      <td>178.97</td>\n",
       "      <td>179.9900</td>\n",
       "      <td>177.4100</td>\n",
       "      <td>179.83</td>\n",
       "      <td>4047742.0</td>\n",
       "    </tr>\n",
       "    <tr>\n",
       "      <th>2019-01-25</th>\n",
       "      <td>2019-01-25</td>\n",
       "      <td>179.78</td>\n",
       "      <td>180.8700</td>\n",
       "      <td>178.6100</td>\n",
       "      <td>180.40</td>\n",
       "      <td>4502516.0</td>\n",
       "      <td>0.0</td>\n",
       "      <td>1.0</td>\n",
       "      <td>179.78</td>\n",
       "      <td>180.8700</td>\n",
       "      <td>178.6100</td>\n",
       "      <td>180.40</td>\n",
       "      <td>4502516.0</td>\n",
       "    </tr>\n",
       "    <tr>\n",
       "      <th>2019-01-24</th>\n",
       "      <td>2019-01-24</td>\n",
       "      <td>177.00</td>\n",
       "      <td>177.5300</td>\n",
       "      <td>175.3000</td>\n",
       "      <td>177.29</td>\n",
       "      <td>3860309.0</td>\n",
       "      <td>0.0</td>\n",
       "      <td>1.0</td>\n",
       "      <td>177.00</td>\n",
       "      <td>177.5300</td>\n",
       "      <td>175.3000</td>\n",
       "      <td>177.29</td>\n",
       "      <td>3860309.0</td>\n",
       "    </tr>\n",
       "    <tr>\n",
       "      <th>2019-01-23</th>\n",
       "      <td>2019-01-23</td>\n",
       "      <td>176.59</td>\n",
       "      <td>178.0600</td>\n",
       "      <td>174.5300</td>\n",
       "      <td>176.89</td>\n",
       "      <td>4910402.0</td>\n",
       "      <td>0.0</td>\n",
       "      <td>1.0</td>\n",
       "      <td>176.59</td>\n",
       "      <td>178.0600</td>\n",
       "      <td>174.5300</td>\n",
       "      <td>176.89</td>\n",
       "      <td>4910402.0</td>\n",
       "    </tr>\n",
       "    <tr>\n",
       "      <th>2019-01-22</th>\n",
       "      <td>2019-01-22</td>\n",
       "      <td>177.49</td>\n",
       "      <td>178.6048</td>\n",
       "      <td>175.3626</td>\n",
       "      <td>177.11</td>\n",
       "      <td>6272715.0</td>\n",
       "      <td>0.0</td>\n",
       "      <td>1.0</td>\n",
       "      <td>177.49</td>\n",
       "      <td>178.6048</td>\n",
       "      <td>175.3626</td>\n",
       "      <td>177.11</td>\n",
       "      <td>6272715.0</td>\n",
       "    </tr>\n",
       "  </tbody>\n",
       "</table>\n",
       "</div>"
      ],
      "text/plain": [
       "                 Date    Open      High       Low   Close     Volume  \\\n",
       "Date                                                                   \n",
       "2019-01-28 2019-01-28  178.97  179.9900  177.4100  179.83  4047742.0   \n",
       "2019-01-25 2019-01-25  179.78  180.8700  178.6100  180.40  4502516.0   \n",
       "2019-01-24 2019-01-24  177.00  177.5300  175.3000  177.29  3860309.0   \n",
       "2019-01-23 2019-01-23  176.59  178.0600  174.5300  176.89  4910402.0   \n",
       "2019-01-22 2019-01-22  177.49  178.6048  175.3626  177.11  6272715.0   \n",
       "\n",
       "            Dividend  Split  Adj_Open  Adj_High   Adj_Low  Adj_Close  \\\n",
       "Date                                                                   \n",
       "2019-01-28       0.0    1.0    178.97  179.9900  177.4100     179.83   \n",
       "2019-01-25       0.0    1.0    179.78  180.8700  178.6100     180.40   \n",
       "2019-01-24       0.0    1.0    177.00  177.5300  175.3000     177.29   \n",
       "2019-01-23       0.0    1.0    176.59  178.0600  174.5300     176.89   \n",
       "2019-01-22       0.0    1.0    177.49  178.6048  175.3626     177.11   \n",
       "\n",
       "            Adj_Volume  \n",
       "Date                    \n",
       "2019-01-28   4047742.0  \n",
       "2019-01-25   4502516.0  \n",
       "2019-01-24   3860309.0  \n",
       "2019-01-23   4910402.0  \n",
       "2019-01-22   6272715.0  "
      ]
     },
     "execution_count": 11,
     "metadata": {},
     "output_type": "execute_result"
    }
   ],
   "source": [
    "df.head()"
   ]
  },
  {
   "cell_type": "code",
   "execution_count": 7,
   "metadata": {},
   "outputs": [
    {
     "data": {
      "image/png": "[encoded data removed]",
      "text/plain": [
       "<Figure size 1152x576 with 1 Axes>"
      ]
     },
     "metadata": {
      "needs_background": "light"
     },
     "output_type": "display_data"
    }
   ],
   "source": [
    "#Initial shape representation of our close price\n",
    "plt.figure(figsize=(16,8))\n",
    "plt.plot(df['Close'], label='Close Price history')\n",
    "plt.show()"
   ]
  },
  {
   "cell_type": "code",
   "execution_count": 9,
   "metadata": {},
   "outputs": [],
   "source": [
    "#creating dataframe with date and the target variable to \n",
    "data = df.sort_index(ascending=True, axis=0)\n",
    "new_data = pd.DataFrame(index=range(0,len(df)),columns=['Date', 'Close'])"
   ]
  },
  {
   "cell_type": "markdown",
   "metadata": {},
   "source": [
    "##LSTM"
   ]
  },
  {
   "cell_type": "code",
   "execution_count": 13,
   "metadata": {},
   "outputs": [],
   "source": [
    "#Sorting values\n",
    "data = df.sort_index(ascending=True, axis=0)\n",
    "#creating a new data frame to avoid any affect to the past features\n",
    "data_1 = pd.DataFrame(index=range(0,len(df)),columns=['Date', 'Close'])\n",
    "for i in range(0,len(data)):\n",
    "    data_1['Date'][i] = data['Date'][i]\n",
    "    data_1['Close'][i] = data['Close'][i]\n"
   ]
  },
  {
   "cell_type": "code",
   "execution_count": null,
   "metadata": {},
   "outputs": [],
   "source": [
    "#creating dataframe\n",
    "data = df.sort_index(ascending=True, axis=0)\n",
    "new_data = pd.DataFrame(index=range(0,len(df)),columns=['Date', 'Close'])\n",
    "for i in range(0,len(data)):\n",
    "    new_data['Date'][i] = data['Date'][i]\n",
    "    new_data['Close'][i] = data['Close'][i]\n",
    "\n",
    "#setting index\n",
    "new_data.index = new_data.Date\n",
    "new_data.drop('Date', axis=1, inplace=True)\n",
    "\n",
    "#creating train and test sets\n",
    "dataset = new_data.values\n",
    "\n",
    "train = dataset[0:4709,:]\n",
    "valid = dataset[4709:,:]\n",
    "\n",
    "#converting dataset into x_train and y_train\n",
    "scaler = MinMaxScaler(feature_range=(0, 1))\n",
    "scaled_data = scaler.fit_transform(dataset)\n",
    "\n",
    "x_train, y_train = [], []\n",
    "for i in range(50,len(train)):\n",
    "    x_train.append(scaled_data[i-50:i,0])\n",
    "    y_train.append(scaled_data[i,0])\n",
    "x_train, y_train = np.array(x_train), np.array(y_train)\n",
    "\n",
    "x_train = np.reshape(x_train, (x_train.shape[0],x_train.shape[1],1))\n",
    "\n",
    "# create and fit the LSTM network\n",
    "model = Sequential()\n",
    "model.add(LSTM(units=10, return_sequences=True, input_shape=(x_train.shape[1],1)))\n",
    "model.add(LSTM(units=10))\n",
    "model.add(Dense(1))\n",
    "#Compiling the model\n",
    "model.compile(loss='mean_squared_error', optimizer='adam')\n",
    "model.fit(x_train, y_train, epochs=3, batch_size=1, verbose=1)\n",
    "\n",
    "#predicting values, using past 50 from the train data\n",
    "inputs = new_data[len(new_data) - len(valid) - 50:].values\n",
    "inputs = inputs.reshape(-1,1)\n",
    "inputs  = scaler.transform(inputs)\n",
    "\n",
    "X_test = []\n",
    "for i in range(50,inputs.shape[0]):\n",
    "    X_test.append(inputs[i-50:i,0])\n",
    "X_test = np.array(X_test)\n",
    "\n",
    "X_test = np.reshape(X_test, (X_test.shape[0],X_test.shape[1],1))\n",
    "closing_price = model.predict(X_test)\n",
    "closing_price = scaler.inverse_transform(closing_price)"
   ]
  },
  {
   "cell_type": "code",
   "execution_count": 27,
   "metadata": {},
   "outputs": [
    {
     "data": {
      "text/plain": [
       "4.562737455621065"
      ]
     },
     "execution_count": 27,
     "metadata": {},
     "output_type": "execute_result"
    }
   ],
   "source": [
    "rms=np.sqrt(np.mean(np.power((valid-closing_price),2)))\n",
    "rms"
   ]
  },
  {
   "cell_type": "code",
   "execution_count": 38,
   "metadata": {},
   "outputs": [
    {
     "name": "stderr",
     "output_type": "stream",
     "text": [
      "/Users/Sam/anaconda/lib/python3.6/site-packages/ipykernel_launcher.py:4: SettingWithCopyWarning: \n",
      "A value is trying to be set on a copy of a slice from a DataFrame.\n",
      "Try using .loc[row_indexer,col_indexer] = value instead\n",
      "\n",
      "See the caveats in the documentation: http://pandas.pydata.org/pandas-docs/stable/indexing.html#indexing-view-versus-copy\n",
      "  after removing the cwd from sys.path.\n"
     ]
    },
    {
     "data": {
      "text/plain": [
       "[<matplotlib.lines.Line2D at 0x13dbbacf8>,\n",
       " <matplotlib.lines.Line2D at 0x13dbbae48>]"
      ]
     },
     "execution_count": 38,
     "metadata": {},
     "output_type": "execute_result"
    },
    {
     "data": {
      "image/png": "[encoded data removed]",
      "text/plain": [
       "<Figure size 1152x576 with 1 Axes>"
      ]
     },
     "metadata": {
      "needs_background": "light"
     },
     "output_type": "display_data"
    }
   ],
   "source": [
    "#plotting predictions\n",
    "train = new_data[:4709]\n",
    "valid = new_data[4709:]\n",
    "valid['Predictions'] = closing_price\n",
    "plt.figure(figsize=(16,8))\n",
    "plt.title('LSTM Predictions')\n",
    "plt.xlabel('Date')\n",
    "plt.ylabel('Close Price')\n",
    "plt.plot(train['Close'])\n",
    "plt.plot(valid[['Close','Predictions']])"
   ]
  },
  {
   "cell_type": "code",
   "execution_count": 1,
   "metadata": {},
   "outputs": [],
   "source": [
    "## Linear Regression"
   ]
  },
  {
   "cell_type": "code",
   "execution_count": null,
   "metadata": {},
   "outputs": [],
   "source": [
    "#setting index as date values\n",
    "df['Date'] = pd.to_datetime(df.Date,format='%Y-%m-%d')\n",
    "df.index = df['Date']\n",
    "\n",
    "#sorting\n",
    "data = df.sort_index(ascending=True, axis=0)\n",
    "\n",
    "#creating a separate dataset\n",
    "new_data = pd.DataFrame(index=range(0,len(df)),columns=['Date', 'Close'])\n",
    "\n",
    "for i in range(0,len(data)):\n",
    "    new_data['Date'][i] = data['Date'][i]\n",
    "    new_data['Close'][i] = data['Close'][i]"
   ]
  },
  {
   "cell_type": "code",
   "execution_count": null,
   "metadata": {},
   "outputs": [],
   "source": [
    "#creating features\n",
    "new_data['mon_fri'] = 0\n",
    "for i in range(0,len(new_data)):\n",
    "    if (new_data['Dayofweek'][i] == 0 or new_data['Dayofweek'][i] == 4):\n",
    "        new_data['mon_fri'][i] = 1\n",
    "    else:\n",
    "        new_data['mon_fri'][i] = 0"
   ]
  },
  {
   "cell_type": "code",
   "execution_count": null,
   "metadata": {},
   "outputs": [],
   "source": [
    "#split into train and validation\n",
    "train = new_data[:987]\n",
    "valid = new_data[987:]\n",
    "\n",
    "x_train = train.drop('Close', axis=1)\n",
    "y_train = train['Close']\n",
    "x_valid = valid.drop('Close', axis=1)\n",
    "y_valid = valid['Close']\n",
    "\n",
    "#implement linear regression\n",
    "from sklearn.linear_model import LinearRegression\n",
    "model = LinearRegression()\n",
    "model.fit(x_train,y_train)"
   ]
  },
  {
   "cell_type": "code",
   "execution_count": null,
   "metadata": {},
   "outputs": [],
   "source": [
    "#make predictions and find the rmse\n",
    "preds = model.predict(x_valid)\n",
    "rms=np.sqrt(np.mean(np.power((np.array(y_valid)-np.array(preds)),2)))\n",
    "rms"
   ]
  },
  {
   "cell_type": "code",
   "execution_count": 2,
   "metadata": {},
   "outputs": [],
   "source": [
    "##ARIMA"
   ]
  },
  {
   "cell_type": "code",
   "execution_count": null,
   "metadata": {},
   "outputs": [],
   "source": [
    "data = df.sort_index(ascending=True, axis=0)\n",
    "\n",
    "train = data[:987]\n",
    "valid = data[987:]\n",
    "\n",
    "training = train['Close']\n",
    "validation = valid['Close']\n",
    "\n",
    "model = auto_arima(training, start_p=1, start_q=1,max_p=3, max_q=3, m=12,start_P=0, seasonal=True,d=1, D=1, trace=True,error_action='ignore',suppress_warnings=True)\n",
    "model.fit(training)\n",
    "\n",
    "forecast = model.predict(n_periods=248)\n",
    "forecast = pd.DataFrame(forecast,index = valid.index,columns=['Prediction'])\n",
    "\n"
   ]
  },
  {
   "cell_type": "code",
   "execution_count": null,
   "metadata": {},
   "outputs": [],
   "source": [
    "rms=np.sqrt(np.mean(np.power((np.array(valid['Close'])-np.array(forecast['Prediction'])),2)))\n",
    "rms"
   ]
  }
 ],
 "metadata": {
  "kernelspec": {
   "display_name": "Python 3",
   "language": "python",
   "name": "python3"
  },
  "language_info": {
   "codemirror_mode": {
    "name": "ipython",
    "version": 3
   },
   "file_extension": ".py",
   "mimetype": "text/x-python",
   "name": "python",
   "nbconvert_exporter": "python",
   "pygments_lexer": "ipython3",
   "version": "3.6.7"
  }
 },
 "nbformat": 4,
 "nbformat_minor": 2
}
